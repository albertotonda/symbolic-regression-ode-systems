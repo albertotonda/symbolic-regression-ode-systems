{
 "cells": [
  {
   "cell_type": "markdown",
   "id": "78fe11aa",
   "metadata": {},
   "source": [
    "# (Unit?) Testing for the whole pipeline\n",
    "Let's give the whole pipeline a try."
   ]
  },
  {
   "cell_type": "code",
   "execution_count": 2,
   "id": "f4655f26",
   "metadata": {},
   "outputs": [],
   "source": [
    "from create_dataset_from_ode_system import get_df_from_ode_system, parse_ode_from_text\n",
    "from explicit_euler_method import apply_euler_method\n",
    "\n",
    "from pysr import PySRRegressor"
   ]
  },
  {
   "cell_type": "code",
   "execution_count": 3,
   "id": "675de658",
   "metadata": {},
   "outputs": [
    {
     "name": "stdout",
     "output_type": "stream",
     "text": [
      "Obtaining data for ODE system in file \"../data/lotka-volterra.txt\"...\n",
      "                x          y       t\n",
      "0       20.000000  20.000000     0.0\n",
      "1       20.060210  19.761672     0.1\n",
      "2       20.120839  19.526656     0.2\n",
      "3       20.181887  19.294904     0.3\n",
      "4       20.243353  19.066370     0.4\n",
      "...           ...        ...     ...\n",
      "9996   112.599985  66.201453   999.6\n",
      "9997   112.672987  67.881078   999.7\n",
      "9998   112.736443  69.605218   999.8\n",
      "9999   112.790084  71.374822   999.9\n",
      "10000  112.833635  73.190839  1000.0\n",
      "\n",
      "[10001 rows x 3 columns]\n",
      "Applying explicit Euler method...\n",
      "            F_x       F_y           x          y      t  delta_t\n",
      "0      0.000000  0.000000   20.000000  20.000000    0.0      0.0\n",
      "1      0.060210 -0.238328   20.000000  20.000000    0.0      0.1\n",
      "2      0.000000  0.000000   20.060210  19.761672    0.1      0.0\n",
      "3      0.060629 -0.235016   20.060210  19.761672    0.1      0.1\n",
      "4      0.000000  0.000000   20.120839  19.526656    0.2      0.0\n",
      "...         ...       ...         ...        ...    ...      ...\n",
      "19995  0.063456  1.724140  112.672987  67.881078  999.7      0.1\n",
      "19996  0.000000  0.000000  112.736443  69.605218  999.8      0.0\n",
      "19997  0.053640  1.769604  112.736443  69.605218  999.8      0.1\n",
      "19998  0.000000  0.000000  112.790084  71.374822  999.9      0.0\n",
      "19999  0.043551  1.816017  112.790084  71.374822  999.9      0.1\n",
      "\n",
      "[20000 rows x 6 columns]\n",
      "Now running symbolic regression for variable \"F_x\"...\n",
      "Compiling Julia backend...\n"
     ]
    },
    {
     "name": "stderr",
     "output_type": "stream",
     "text": [
      "C:\\Users\\Alberto\\anaconda3\\lib\\site-packages\\pysr\\sr.py:1296: UserWarning: Note: it looks like you are running in Jupyter. The progress bar will be turned off.\n",
      "  warnings.warn(\n",
      "C:\\Users\\Alberto\\anaconda3\\lib\\site-packages\\pysr\\sr.py:1364: FutureWarning: Index.is_object is deprecated.Use pandas.api.types.is_object_dtype instead\n",
      "  if X.columns.is_object() and X.columns.str.contains(\" \").any():\n",
      "C:\\Users\\Alberto\\anaconda3\\lib\\site-packages\\pysr\\sr.py:1135: FutureWarning: PySRRegressor.equations is now deprecated. Please use PySRRegressor.equations_ instead.\n",
      "  warnings.warn(\n",
      "C:\\Users\\Alberto\\anaconda3\\lib\\site-packages\\pysr\\sr.py:1296: UserWarning: Note: it looks like you are running in Jupyter. The progress bar will be turned off.\n",
      "  warnings.warn(\n",
      "C:\\Users\\Alberto\\anaconda3\\lib\\site-packages\\pysr\\sr.py:1364: FutureWarning: Index.is_object is deprecated.Use pandas.api.types.is_object_dtype instead\n",
      "  if X.columns.is_object() and X.columns.str.contains(\" \").any():\n"
     ]
    },
    {
     "name": "stdout",
     "output_type": "stream",
     "text": [
      "Now running symbolic regression for variable \"F_y\"...\n"
     ]
    },
    {
     "name": "stderr",
     "output_type": "stream",
     "text": [
      "C:\\Users\\Alberto\\anaconda3\\lib\\site-packages\\pysr\\sr.py:1135: FutureWarning: PySRRegressor.equations is now deprecated. Please use PySRRegressor.equations_ instead.\n",
      "  warnings.warn(\n"
     ]
    }
   ],
   "source": [
    " # this is just a test with Lotka-Volterra\n",
    "random_seed = 42\n",
    "ode_system_file_name = \"../data/lotka-volterra.txt\"\n",
    "\n",
    "print(\"Obtaining data for ODE system in file \\\"%s\\\"...\" % ode_system_file_name)\n",
    "equations, ordered_variables, initial_conditions, time_step, max_time = parse_ode_from_text(ode_system_file_name)\n",
    "df = get_df_from_ode_system(equations, ordered_variables, initial_conditions, time_step, max_time)\n",
    "print(df)\n",
    "\n",
    "print(\"Applying explicit Euler method...\")\n",
    "df_euler = apply_euler_method(df)\n",
    "print(df_euler)\n",
    "\n",
    "target_names = [c for c in df_euler.columns if c.startswith(\"F_\")]\n",
    "dictionary_equations = {}\n",
    "\n",
    "for target in target_names :\n",
    "    print(\"Now running symbolic regression for variable \\\"%s\\\"...\" % target)\n",
    "\n",
    "    # create dataframes with selection: TODO split data? cross-validation?\n",
    "    y = df_euler[target]\n",
    "    X = df_euler[[c for c in df_euler.columns if c != target and not c.startswith(\"F_\")]]\n",
    "\n",
    "    # initialize PySRRegressor\n",
    "    symbolic_regressor = PySRRegressor(\n",
    "        batching=True, # use batches instead of the whole dataset\n",
    "        batch_size=50, # 50 is the default value for the batches\n",
    "        model_selection=\"best\",  # Result is mix of simplicity+accuracy\n",
    "        niterations=1000,\n",
    "        binary_operators=[\"+\", \"*\", \"/\", \"-\", ],\n",
    "        unary_operators=[\"sin\", \"cos\", \"exp\", \"sqrt\", ],\n",
    "        early_stop_condition=(\"stop_if(loss, complexity) = loss < 1e-6 && complexity < 10\"), # stop early if we find a good and simple equation\n",
    "        verbosity=1,\n",
    "        )\n",
    "\n",
    "    symbolic_regressor.fit(X, y)\n",
    "    dictionary_equations[target] = symbolic_regressor.equations"
   ]
  },
  {
   "cell_type": "code",
   "execution_count": 4,
   "id": "d8c0d502",
   "metadata": {},
   "outputs": [
    {
     "name": "stdout",
     "output_type": "stream",
     "text": [
      "{'F_x':     complexity      loss         score  \\\n",
      "0            1  0.047350  0.000000e+00   \n",
      "1            2  0.047350  4.857462e-07   \n",
      "2            3  0.034777  3.086038e-01   \n",
      "3            5  0.022178  2.249253e-01   \n",
      "4            6  0.022178  3.156257e-07   \n",
      "5            7  0.008525  9.560565e-01   \n",
      "6            9  0.006742  1.173441e-01   \n",
      "7           11  0.006471  2.052558e-02   \n",
      "8           12  0.006240  3.634201e-02   \n",
      "9           13  0.006240  2.179532e-05   \n",
      "10          17  0.006154  3.471029e-03   \n",
      "11          18  0.006154  1.612034e-05   \n",
      "12          19  0.005523  1.081606e-01   \n",
      "\n",
      "                                             equation  \\\n",
      "0                                        0.0055041015   \n",
      "1                                     cos(-7.8484645)   \n",
      "2                                 (-0.0008292302 * y)   \n",
      "3                      ((y * -0.016591342) * delta_t)   \n",
      "4                  ((y * sin(-0.01659152)) * delta_t)   \n",
      "5        (((y * -0.024969868) + 2.0042782) * delta_t)   \n",
      "6   ((((y * x) * -0.00043065855) + 1.7465234) * de...   \n",
      "7   ((((y * (x + 1.7465085)) * -0.00043065776) + 1...   \n",
      "8   ((((y * (x + exp(1.7465085))) * -0.00043065776...   \n",
      "9   ((((y * (x + exp(exp(0.49673212)))) * -0.00043...   \n",
      "10  (((((y * (x + exp(1.7465085))) * -0.0004306577...   \n",
      "11  (((((y * (x + exp(1.7465085))) * -0.0004306577...   \n",
      "12  (((((y * (x + exp(1.7465085))) * -0.0004306577...   \n",
      "\n",
      "                                         sympy_format  \\\n",
      "0                                 0.00550410150000000   \n",
      "1                                 0.00551710598539910   \n",
      "2                                     -0.0008292302*y   \n",
      "3                              -0.016591342*delta_t*y   \n",
      "4                       -0.0165907587955882*delta_t*y   \n",
      "5                 delta_t*(2.0042782 - 0.024969868*y)   \n",
      "6            delta_t*(-0.00043065855*x*y + 1.7465234)   \n",
      "7   delta_t*(-0.00043065776*y*(x + 1.7465085) + 1....   \n",
      "8   delta_t*(-0.00043065776*y*(x + 5.7345455159253...   \n",
      "9   delta_t*(-0.00043065776*y*(x + 5.1724281575504...   \n",
      "10  delta_t*(-0.00043065776*y*(x + 5.7345455159253...   \n",
      "11  delta_t*(-0.00043065776*y*(x + 5.7345455159253...   \n",
      "12  delta_t*(-0.00043065776*y*(x + 5.7345455159253...   \n",
      "\n",
      "                                        lambda_format  \n",
      "0                PySRFunction(X=>0.00550410150000000)  \n",
      "1                PySRFunction(X=>0.00551710598539910)  \n",
      "2                    PySRFunction(X=>-0.0008292302*y)  \n",
      "3             PySRFunction(X=>-0.016591342*delta_t*y)  \n",
      "4      PySRFunction(X=>-0.0165907587955882*delta_t*y)  \n",
      "5   PySRFunction(X=>delta_t*(2.0042782 - 0.0249698...  \n",
      "6   PySRFunction(X=>delta_t*(-0.00043065855*x*y + ...  \n",
      "7   PySRFunction(X=>delta_t*(-0.00043065776*y*(x +...  \n",
      "8   PySRFunction(X=>delta_t*(-0.00043065776*y*(x +...  \n",
      "9   PySRFunction(X=>delta_t*(-0.00043065776*y*(x +...  \n",
      "10  PySRFunction(X=>delta_t*(-0.00043065776*y*(x +...  \n",
      "11  PySRFunction(X=>delta_t*(-0.00043065776*y*(x +...  \n",
      "12  PySRFunction(X=>delta_t*(-0.00043065776*y*(x +...  , 'F_y':     complexity      loss         score  \\\n",
      "0            1  1.015041  0.000000e+00   \n",
      "1            3  0.945710  3.537441e-02   \n",
      "2            4  0.911728  3.659394e-02   \n",
      "3            5  0.773826  1.639942e-01   \n",
      "4            7  0.507570  2.108561e-01   \n",
      "5            9  0.000096  4.284572e+00   \n",
      "6           11  0.000091  2.971670e-02   \n",
      "7           12  0.000091  8.809223e-07   \n",
      "8           13  0.000086  5.275207e-02   \n",
      "9           15  0.000051  2.609535e-01   \n",
      "10          17  0.000041  1.107097e-01   \n",
      "\n",
      "                                             equation  \\\n",
      "0                                        0.0049995044   \n",
      "1                                  (0.0044324305 * x)   \n",
      "2                                  exp(-85.67718 / x)   \n",
      "3                    ((0.015547061 * x) - 0.77970505)   \n",
      "4           (y * ((0.00020001367 * x) - 0.010028449))   \n",
      "5   ((((0.00399987 * x) - 0.20054413) * delta_t) * y)   \n",
      "6   (((y * delta_t) * ((0.0039998614 * x) - 0.2006...   \n",
      "7   (((y * sin(delta_t)) * ((0.0040065213 * x) - 0...   \n",
      "8   ((((y - -0.33737585) * delta_t) * ((0.00399162...   \n",
      "9   ((((0.013464699 * x) - (0.37969553 - y)) * del...   \n",
      "10  ((((0.019939387 * x) - ((x / x) - y)) * delta_...   \n",
      "\n",
      "                                         sympy_format  \\\n",
      "0                                 0.00499950440000000   \n",
      "1                                      0.0044324305*x   \n",
      "2                                    exp(-85.67718/x)   \n",
      "3                          0.015547061*x - 0.77970505   \n",
      "4                   y*(0.00020001367*x - 0.010028449)   \n",
      "5               delta_t*y*(0.00399987*x - 0.20054413)   \n",
      "6   delta_t*y*(0.0039998614*x - 0.2006515) + 0.002...   \n",
      "7   y*(0.0040065213*x - 0.2009854)*sin(delta_t) + ...   \n",
      "8   delta_t*(0.0039916253*x - 0.20023826)*(y + 0.3...   \n",
      "9   delta_t*(0.0039841644*x - 0.19998513)*(0.01346...   \n",
      "10  delta_t*(0.0039895033*x - 0.20036192)*(0.01993...   \n",
      "\n",
      "                                        lambda_format  \n",
      "0                PySRFunction(X=>0.00499950440000000)  \n",
      "1                     PySRFunction(X=>0.0044324305*x)  \n",
      "2                   PySRFunction(X=>exp(-85.67718/x))  \n",
      "3         PySRFunction(X=>0.015547061*x - 0.77970505)  \n",
      "4   PySRFunction(X=>y*(0.00020001367*x - 0.0100284...  \n",
      "5   PySRFunction(X=>delta_t*y*(0.00399987*x - 0.20...  \n",
      "6   PySRFunction(X=>delta_t*y*(0.0039998614*x - 0....  \n",
      "7   PySRFunction(X=>y*(0.0040065213*x - 0.2009854)...  \n",
      "8   PySRFunction(X=>delta_t*(0.0039916253*x - 0.20...  \n",
      "9   PySRFunction(X=>delta_t*(0.0039841644*x - 0.19...  \n",
      "10  PySRFunction(X=>delta_t*(0.0039895033*x - 0.20...  }\n"
     ]
    }
   ],
   "source": [
    "print(dictionary_equations)"
   ]
  },
  {
   "cell_type": "code",
   "execution_count": 1,
   "id": "80e06e41",
   "metadata": {},
   "outputs": [
    {
     "ename": "NameError",
     "evalue": "name 'dictionary_equations' is not defined",
     "output_type": "error",
     "traceback": [
      "\u001b[1;31m---------------------------------------------------------------------------\u001b[0m",
      "\u001b[1;31mNameError\u001b[0m                                 Traceback (most recent call last)",
      "Cell \u001b[1;32mIn[1], line 1\u001b[0m\n\u001b[1;32m----> 1\u001b[0m \u001b[38;5;28mprint\u001b[39m(\u001b[43mdictionary_equations\u001b[49m)\n",
      "\u001b[1;31mNameError\u001b[0m: name 'dictionary_equations' is not defined"
     ]
    }
   ],
   "source": [
    "# next step, take all equations, compute derivative in delta_t and set delta_t to zero\n",
    "# (replicating lim delta_t -> 0)\n"
   ]
  },
  {
   "cell_type": "code",
   "execution_count": null,
   "id": "34003e34",
   "metadata": {},
   "outputs": [],
   "source": []
  }
 ],
 "metadata": {
  "kernelspec": {
   "display_name": "Python 3 (ipykernel)",
   "language": "python",
   "name": "python3"
  },
  "language_info": {
   "codemirror_mode": {
    "name": "ipython",
    "version": 3
   },
   "file_extension": ".py",
   "mimetype": "text/x-python",
   "name": "python",
   "nbconvert_exporter": "python",
   "pygments_lexer": "ipython3",
   "version": "3.10.14"
  }
 },
 "nbformat": 4,
 "nbformat_minor": 5
}
