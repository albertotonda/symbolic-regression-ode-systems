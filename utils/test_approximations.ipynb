{
 "cells": [
  {
   "cell_type": "markdown",
   "id": "fa7e47cd",
   "metadata": {},
   "source": [
    "# Test approximations\n",
    "The idea is to have a basic workflow to test all the approximations ($\\Delta_x$ and $F_x$) vs the ground truth for each system in ODEBench."
   ]
  },
  {
   "cell_type": "code",
   "execution_count": 11,
   "id": "a9aefaf3",
   "metadata": {},
   "outputs": [],
   "source": [
    "# lots of necessary imports\n",
    "import json\n",
    "import matplotlib.pyplot as plt\n",
    "import numpy as np\n",
    "import pandas as pd\n",
    "import re as regex\n",
    "import seaborn as sns\n",
    "import sympy\n",
    "\n",
    "from scipy import integrate\n",
    "from sklearn.metrics import r2_score\n",
    "from sympy import parse_expr\n",
    "\n",
    "# set stule for plots\n",
    "sns.set_style('darkgrid')"
   ]
  },
  {
   "cell_type": "code",
   "execution_count": 12,
   "id": "e5f6ffb3",
   "metadata": {},
   "outputs": [
    {
     "name": "stdout",
     "output_type": "stream",
     "text": [
      "{'x_0': -0.9*x_0**2/(x_0**2 + 449.44) + 0.78*x_0*(1 - 0.0123456790123457*x_0)}\n",
      "Found a total of 2 trajectories!\n",
      "Converting the first trajectory to a DataFrame...\n",
      "             t        x_0\n",
      "0     0.000000   2.760000\n",
      "1     0.067114   2.901931\n",
      "2     0.134228   3.050817\n",
      "3     0.201342   3.206967\n",
      "4     0.268456   3.370693\n",
      "..         ...        ...\n",
      "145   9.731544  78.561747\n",
      "146   9.798658  78.627607\n",
      "147   9.865772  78.690294\n",
      "148   9.932886  78.749955\n",
      "149  10.000000  78.806732\n",
      "\n",
      "[150 rows x 2 columns]\n"
     ]
    }
   ],
   "source": [
    "# now, let's pick an ODE system from ODEBench\n",
    "odebench_file_name = \"../data/odebench/all_odebench_trajectories.json\"\n",
    "system_id = 14 # we can change this\n",
    "\n",
    "# read the ODEBench file with all the trajectories\n",
    "odebench = None\n",
    "with open(odebench_file_name, \"r\") as fp :\n",
    "    odebench = json.load(fp)\n",
    "    \n",
    "# pick the system with the appropriate system id\n",
    "system = [system for system in odebench if system[\"id\"] == system_id][0]\n",
    "\n",
    "# get the names of the state variables\n",
    "state_variables = regex.findall(\"([0-9|a-z|\\_]+)\\:\\s+\", system[\"var_description\"])\n",
    "#print(state_variables)\n",
    "\n",
    "# associate each variable with the expression of its derivative\n",
    "equations = {state_variables[i] : sympy.sympify(system[\"substituted\"][0][i])\n",
    "                     for i in range(0, len(state_variables))}\n",
    "print(equations)\n",
    "\n",
    "# get the trajectories\n",
    "trajectories = system[\"solutions\"][0] # for some reason, another list with 1 element (...) \n",
    "print(\"Found a total of %d trajectories!\" % len(trajectories))\n",
    "\n",
    "# we only consider one trajectory, for the moment\n",
    "print(\"Converting the first trajectory to a DataFrame...\")\n",
    "trajectory = trajectories[0]\n",
    "dictionary_trajectory = {}\n",
    "dictionary_trajectory[\"t\"] = trajectory[\"t\"]\n",
    "\n",
    "for v in range(0, len(state_variables)) :\n",
    "    dictionary_trajectory[state_variables[v]] = trajectory[\"y\"][v]\n",
    "df_trajectory = pd.DataFrame.from_dict(dictionary_trajectory)\n",
    "print(df_trajectory)"
   ]
  },
  {
   "cell_type": "code",
   "execution_count": 13,
   "id": "09b5fe57",
   "metadata": {},
   "outputs": [],
   "source": [
    "# now, we compute the approximation(s); first, $\\Delta_t$, using built-in functions from another package\n",
    "from pysindy.differentiation import FiniteDifference, SmoothedFiniteDifference\n",
    "\n",
    "fd = FiniteDifference(order=2)\n",
    "dy_dt = fd._differentiate(df_trajectory[state_variables].values, \n",
    "                                      df_trajectory[\"t\"].values)"
   ]
  },
  {
   "cell_type": "code",
   "execution_count": 14,
   "id": "8fce90cc-5f45-41f4-a604-678b99ddfb1f",
   "metadata": {},
   "outputs": [
    {
     "name": "stdout",
     "output_type": "stream",
     "text": [
      "             t        x_0  x_0_dxdt\n",
      "0     0.000000   2.760000  2.062964\n",
      "1     0.067114   2.901931  2.166589\n",
      "2     0.134228   3.050817  2.272519\n",
      "3     0.201342   3.206967  2.383076\n",
      "4     0.268456   3.370693  2.498379\n",
      "..         ...        ...       ...\n",
      "145   9.731544  78.561747  1.006105\n",
      "146   9.798658  78.627607  0.957676\n",
      "147   9.865772  78.690294  0.911491\n",
      "148   9.932886  78.749955  0.867462\n",
      "149  10.000000  78.806732  0.824488\n",
      "\n",
      "[150 rows x 3 columns]\n"
     ]
    }
   ],
   "source": [
    "# prepare another pandas DataFrame\n",
    "dy_dt_column_names = [v + \"_dxdt\" for v in state_variables]\n",
    "# most of it will be a copy of the previous one\n",
    "df_dy_dt = df_trajectory.copy()\n",
    "for i in range(0, len(state_variables)) :\n",
    "    df_dy_dt[dy_dt_column_names[i]] = dy_dt[:,i]\n",
    "print(df_dy_dt)"
   ]
  },
  {
   "cell_type": "code",
   "execution_count": 15,
   "id": "3f16bd12-930c-451f-8666-0b040f3ea0f7",
   "metadata": {},
   "outputs": [
    {
     "name": "stdout",
     "output_type": "stream",
     "text": [
      "[ 2.06444539  2.16586009  2.27174984  2.38226317  2.49754253  2.61773213\n",
      "  2.74297323  2.8734043   3.00916148  3.1503729   3.29716209  3.44964782\n",
      "  3.60794181  3.77213885  3.9423292   4.11859515  4.30100863  4.48962892\n",
      "  4.68448397  4.88558874  5.0929447   5.30653486  5.52631248  5.75221106\n",
      "  5.98414455  6.22200339  6.46563647  6.71486724  6.96949586  7.22929352\n",
      "  7.49398188  7.76325066  8.03676198  8.31414373  8.59496773  8.87876764\n",
      "  9.16504603  9.45326737  9.74283959 10.03312678 10.32345639 10.61311305\n",
      " 10.90133943 11.1873392  11.47027618 11.74927758 12.02343743 12.29182783\n",
      " 12.55350442 12.80750047 13.05283829 13.28853648 13.51362402 13.72713995\n",
      " 13.92814113 14.11571213 14.28897657 14.44711004 14.58933699 14.714943\n",
      " 14.82328305 14.91379312 14.98599216 15.03948504 15.07396981 15.08924209\n",
      " 15.08519743 15.06183083 15.0192379  14.95761402 14.87725202 14.77854073\n",
      " 14.66195984 14.52807301 14.37752078 14.2110116  14.02932524 13.83330756\n",
      " 13.62384685 13.4018708  13.16833651 12.92422651 12.67055126 12.4083224\n",
      " 12.13855088 11.86223955 11.58037687 11.29393673 11.00386557 10.71107883\n",
      " 10.41645747 10.12084438  9.82503777  9.52979215  9.2358175   8.94377796\n",
      "  8.65429199  8.36792314  8.08518264  7.80653929  7.53241658  7.26319496\n",
      "  6.99920621  6.74072708  6.48800429  6.24124837  6.00063665  5.76631697\n",
      "  5.53840416  5.31695461  5.10201192  4.89359753  4.69171055  4.49633036\n",
      "  4.30741829  4.12490853  3.94872249  3.77877023  3.61495001  3.45714983\n",
      "  3.30524899  3.15911865  3.01862355  2.88362347  2.75397391  2.62952688\n",
      "  2.51013154  2.39563684  2.28589288  2.18074737  2.08004784  1.98364178\n",
      "  1.89137678  1.8031032   1.71868145  1.63796961  1.56082767  1.48711817\n",
      "  1.41670613  1.34945958  1.28525464  1.22396911  1.16548339  1.10968118\n",
      "  1.05644936  1.00567789  0.95726243  0.91110254  0.86710056  0.82516227]\n",
      "For state variable \"x_0\", R2=1.0000\n"
     ]
    }
   ],
   "source": [
    "from sympy.utilities.lambdify import lambdify\n",
    "from sklearn.metrics import r2_score\n",
    "\n",
    "for state_variable, equation in equations.items() :\n",
    "    # now, evaluate the ground truth for $\\Delta_x$; this should be exactly the same as the original x'(t)\n",
    "    equation_symbols = [c for c in df_dy_dt.columns if not c.endswith(\"_dxdt\")]\n",
    "    #print(equation_symbols)\n",
    "    symbol_values = [df_dy_dt[c].values for c in equation_symbols]\n",
    "    #print(symbol_values)\n",
    "    \n",
    "    # lambdify equation and get values\n",
    "    equation_values = lambdify(equation_symbols, equation)(*symbol_values)\n",
    "    print(equation_values)\n",
    "    ground_truth = df_dy_dt[state_variable + \"_dxdt\"].values\n",
    "\n",
    "    # compute R2 score\n",
    "    r2_value = r2_score(ground_truth, equation_values)\n",
    "    print(\"For state variable \\\"%s\\\", R2=%.4f\" % (state_variable, r2_value))"
   ]
  },
  {
   "cell_type": "code",
   "execution_count": null,
   "id": "894740b8-5121-4486-af1e-e1895097858d",
   "metadata": {},
   "outputs": [],
   "source": []
  }
 ],
 "metadata": {
  "kernelspec": {
   "display_name": "Python 3 (ipykernel)",
   "language": "python",
   "name": "python3"
  },
  "language_info": {
   "codemirror_mode": {
    "name": "ipython",
    "version": 3
   },
   "file_extension": ".py",
   "mimetype": "text/x-python",
   "name": "python",
   "nbconvert_exporter": "python",
   "pygments_lexer": "ipython3",
   "version": "3.10.14"
  }
 },
 "nbformat": 4,
 "nbformat_minor": 5
}
